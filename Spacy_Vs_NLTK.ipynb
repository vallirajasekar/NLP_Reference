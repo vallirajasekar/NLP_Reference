{
  "nbformat": 4,
  "nbformat_minor": 0,
  "metadata": {
    "colab": {
      "provenance": [],
      "gpuType": "T4",
      "authorship_tag": "ABX9TyMlYYz5GmtKOvP1fx+Q0adc",
      "include_colab_link": true
    },
    "kernelspec": {
      "name": "python3",
      "display_name": "Python 3"
    },
    "language_info": {
      "name": "python"
    },
    "accelerator": "GPU"
  },
  "cells": [
    {
      "cell_type": "markdown",
      "metadata": {
        "id": "view-in-github",
        "colab_type": "text"
      },
      "source": [
        "<a href=\"https://colab.research.google.com/github/vallirajasekar/NLP_Reference/blob/main/Spacy_Vs_NLTK.ipynb\" target=\"_parent\"><img src=\"https://colab.research.google.com/assets/colab-badge.svg\" alt=\"Open In Colab\"/></a>"
      ]
    },
    {
      "cell_type": "code",
      "execution_count": 2,
      "metadata": {
        "id": "0Fz8p7p4ogsG"
      },
      "outputs": [],
      "source": [
        "#pip install spacy"
      ]
    },
    {
      "cell_type": "code",
      "source": [
        "import spacy"
      ],
      "metadata": {
        "id": "-YrLFMgCtN7i"
      },
      "execution_count": 2,
      "outputs": []
    },
    {
      "cell_type": "code",
      "source": [
        "nlp=spacy.load('en_core_web_sm')"
      ],
      "metadata": {
        "id": "ur0zDtn7o41w"
      },
      "execution_count": 3,
      "outputs": []
    },
    {
      "cell_type": "code",
      "source": [
        "doc=nlp('Mr.Rishi Visit Akshanadham,Mr.Biden visit Taj_Mahal')"
      ],
      "metadata": {
        "id": "FmXidTD6s92-"
      },
      "execution_count": 4,
      "outputs": []
    },
    {
      "cell_type": "code",
      "source": [
        "for sentence in doc.sents:\n",
        "  print(sentence)\n"
      ],
      "metadata": {
        "colab": {
          "base_uri": "https://localhost:8080/"
        },
        "id": "VcwYGmyptinl",
        "outputId": "7568467c-120d-4595-c70e-58fe53fcb835"
      },
      "execution_count": 6,
      "outputs": [
        {
          "output_type": "stream",
          "name": "stdout",
          "text": [
            "Mr.Rishi Visit Akshanadham,Mr.Biden visit Taj_Mahal\n"
          ]
        }
      ]
    },
    {
      "cell_type": "code",
      "source": [
        "import spacy\n",
        "\n",
        "nlp = spacy.load('en_core_web_sm')\n",
        "text = \"Mr. Rishi Visit Akshanadham, Mr. Biden visit Taj Mahal\"\n",
        "doc = nlp(text)\n",
        "\n",
        "for sentence in doc.sents:\n",
        "    print(sentence)\n"
      ],
      "metadata": {
        "colab": {
          "base_uri": "https://localhost:8080/"
        },
        "id": "i1CVcuVluh5r",
        "outputId": "33006604-f4f8-46f3-8af9-a4d692416232"
      },
      "execution_count": 7,
      "outputs": [
        {
          "output_type": "stream",
          "name": "stdout",
          "text": [
            "Mr. Rishi Visit Akshanadham, Mr. Biden visit Taj Mahal\n"
          ]
        }
      ]
    },
    {
      "cell_type": "code",
      "source": [
        "for sentence in doc.sents:\n",
        "  for word in sentence:\n",
        "    print(word)\n"
      ],
      "metadata": {
        "colab": {
          "base_uri": "https://localhost:8080/"
        },
        "id": "PU5ALIeWuiCy",
        "outputId": "9f5ffdb3-da80-44dc-a86b-4fd18b37a966"
      },
      "execution_count": 8,
      "outputs": [
        {
          "output_type": "stream",
          "name": "stdout",
          "text": [
            "Mr.\n",
            "Rishi\n",
            "Visit\n",
            "Akshanadham\n",
            ",\n",
            "Mr.\n",
            "Biden\n",
            "visit\n",
            "Taj\n",
            "Mahal\n"
          ]
        }
      ]
    },
    {
      "cell_type": "code",
      "source": [
        "import nltk"
      ],
      "metadata": {
        "id": "u-6MFGGsvcZS"
      },
      "execution_count": 9,
      "outputs": []
    },
    {
      "cell_type": "code",
      "source": [
        "from nltk.tokenize import sent_tokenize"
      ],
      "metadata": {
        "id": "HakeiO1DveeP"
      },
      "execution_count": 10,
      "outputs": []
    },
    {
      "cell_type": "code",
      "source": [
        "nltk.download('punkt')"
      ],
      "metadata": {
        "colab": {
          "base_uri": "https://localhost:8080/"
        },
        "id": "U_SG8CGZv6Lj",
        "outputId": "77fbc4b2-effb-4416-d464-85918d0ab758"
      },
      "execution_count": 12,
      "outputs": [
        {
          "output_type": "stream",
          "name": "stderr",
          "text": [
            "[nltk_data] Downloading package punkt to /root/nltk_data...\n",
            "[nltk_data]   Unzipping tokenizers/punkt.zip.\n"
          ]
        },
        {
          "output_type": "execute_result",
          "data": {
            "text/plain": [
              "True"
            ]
          },
          "metadata": {},
          "execution_count": 12
        }
      ]
    },
    {
      "cell_type": "code",
      "source": [
        "sent_tokenize(\"Mr. Rishi Visit Akshanadham, Mr. Biden visit Taj Mahal\")"
      ],
      "metadata": {
        "colab": {
          "base_uri": "https://localhost:8080/"
        },
        "id": "E03mb_QNvpyZ",
        "outputId": "376837f1-5ebf-4d86-9b39-9b562b6ed5e7"
      },
      "execution_count": 13,
      "outputs": [
        {
          "output_type": "execute_result",
          "data": {
            "text/plain": [
              "['Mr. Rishi Visit Akshanadham, Mr. Biden visit Taj Mahal']"
            ]
          },
          "metadata": {},
          "execution_count": 13
        }
      ]
    },
    {
      "cell_type": "code",
      "source": [
        "from nltk.tokenize import word_tokenize"
      ],
      "metadata": {
        "id": "V9hG1X9HwjW7"
      },
      "execution_count": 14,
      "outputs": []
    },
    {
      "cell_type": "code",
      "source": [
        "word_tokenize(\"Mr. Rishi Visit Akshanadham, Mr. Biden visit Taj Mahal\")"
      ],
      "metadata": {
        "colab": {
          "base_uri": "https://localhost:8080/"
        },
        "id": "L8nU36oZwiaB",
        "outputId": "bd0d7206-166b-44cf-ac72-9c5cd9eae272"
      },
      "execution_count": 15,
      "outputs": [
        {
          "output_type": "execute_result",
          "data": {
            "text/plain": [
              "['Mr.',\n",
              " 'Rishi',\n",
              " 'Visit',\n",
              " 'Akshanadham',\n",
              " ',',\n",
              " 'Mr.',\n",
              " 'Biden',\n",
              " 'visit',\n",
              " 'Taj',\n",
              " 'Mahal']"
            ]
          },
          "metadata": {},
          "execution_count": 15
        }
      ]
    }
  ]
}